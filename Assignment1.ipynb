{
 "cells": [
  {
   "cell_type": "code",
   "execution_count": 2,
   "id": "5d1bccf7",
   "metadata": {},
   "outputs": [],
   "source": [
    "import numpy as np"
   ]
  },
  {
   "cell_type": "code",
   "execution_count": 5,
   "id": "3b7e7d5b",
   "metadata": {},
   "outputs": [],
   "source": [
    "def randomization(n):\n",
    "    A = np.random.random(size = n).reshape(n,1)\n",
    "    return A"
   ]
  },
  {
   "cell_type": "code",
   "execution_count": 6,
   "id": "f1291a06",
   "metadata": {},
   "outputs": [],
   "source": [
    "def operations(h,w):\n",
    "    A = np.random.random(size=(h,w))\n",
    "    B = np.random.random(size =(h,w))\n",
    "    S = A + B\n",
    "    return A, B, S"
   ]
  },
  {
   "cell_type": "code",
   "execution_count": 7,
   "id": "4c23a289",
   "metadata": {},
   "outputs": [],
   "source": [
    "def Norm(A,B):\n",
    "    S = A + B\n",
    "    return np.linalg.norm(S)"
   ]
  },
  {
   "cell_type": "code",
   "execution_count": 8,
   "id": "0d435d1a",
   "metadata": {},
   "outputs": [],
   "source": [
    "def neural_network(inputs,weights):\n",
    "    Z = np.tanh(weights.T.dot(inputs))\n",
    "    return Z\n",
    "    "
   ]
  },
  {
   "cell_type": "code",
   "execution_count": 9,
   "id": "cff168c9",
   "metadata": {},
   "outputs": [],
   "source": [
    "def scalar_function(x,y):\n",
    "    if(x>y):\n",
    "        return x*y\n",
    "    else:\n",
    "        return x/y"
   ]
  },
  {
   "cell_type": "code",
   "execution_count": 10,
   "id": "6300bda5",
   "metadata": {},
   "outputs": [],
   "source": [
    "def vector_function(x,y):\n",
    "    func = np.vectorize(scalar_function)\n",
    "    return func(x,y)"
   ]
  },
  {
   "cell_type": "code",
   "execution_count": 11,
   "id": "1518d5f8",
   "metadata": {},
   "outputs": [
    {
     "data": {
      "text/plain": [
       "array([[0.27016793],\n",
       "       [0.76020036],\n",
       "       [0.35454491],\n",
       "       [0.87453185],\n",
       "       [0.44548262]])"
      ]
     },
     "execution_count": 11,
     "metadata": {},
     "output_type": "execute_result"
    }
   ],
   "source": [
    "n = 5\n",
    "randomization(n)"
   ]
  },
  {
   "cell_type": "code",
   "execution_count": 14,
   "id": "9357db6c",
   "metadata": {},
   "outputs": [
    {
     "data": {
      "text/plain": [
       "(array([[0.8894826 , 0.76519087, 0.02578496],\n",
       "        [0.03698622, 0.95756824, 0.08026167],\n",
       "        [0.85491422, 0.29656855, 0.6113925 ]]),\n",
       " array([[0.49619565, 0.17773743, 0.64648839],\n",
       "        [0.9684591 , 0.89293852, 0.28216512],\n",
       "        [0.18578049, 0.37227721, 0.44063055]]),\n",
       " array([[1.38567826, 0.9429283 , 0.67227335],\n",
       "        [1.00544532, 1.85050676, 0.36242679],\n",
       "        [1.04069471, 0.66884576, 1.05202305]]))"
      ]
     },
     "execution_count": 14,
     "metadata": {},
     "output_type": "execute_result"
    }
   ],
   "source": [
    "h=3 \n",
    "w = 3\n",
    "operations(h,w)"
   ]
  },
  {
   "cell_type": "code",
   "execution_count": 16,
   "id": "2517a952",
   "metadata": {},
   "outputs": [
    {
     "data": {
      "text/plain": [
       "7.483314773547883"
      ]
     },
     "execution_count": 16,
     "metadata": {},
     "output_type": "execute_result"
    }
   ],
   "source": [
    "A = np.array([[1,2,3]]).T\n",
    "B = np.array([[1,2,3]]).T\n",
    "Norm(A,B)"
   ]
  },
  {
   "cell_type": "code",
   "execution_count": 19,
   "id": "eacca96d",
   "metadata": {},
   "outputs": [
    {
     "data": {
      "text/plain": [
       "array([1., 1., 1.])"
      ]
     },
     "execution_count": 19,
     "metadata": {},
     "output_type": "execute_result"
    }
   ],
   "source": [
    "inputs = (2,5)\n",
    "weights = np.array([[9, 2, 3], [3, 4, 5]])\n",
    "neural_network(inputs,weights)"
   ]
  },
  {
   "cell_type": "code",
   "execution_count": 21,
   "id": "8fcbe317",
   "metadata": {},
   "outputs": [
    {
     "data": {
      "text/plain": [
       "0.7"
      ]
     },
     "execution_count": 21,
     "metadata": {},
     "output_type": "execute_result"
    }
   ],
   "source": [
    "x = 7\n",
    "y =10\n",
    "scalar_function(x,y)"
   ]
  },
  {
   "cell_type": "code",
   "execution_count": 22,
   "id": "0f7a8273",
   "metadata": {},
   "outputs": [
    {
     "data": {
      "text/plain": [
       "array(0.7)"
      ]
     },
     "execution_count": 22,
     "metadata": {},
     "output_type": "execute_result"
    }
   ],
   "source": [
    "vector_function(x,y)"
   ]
  },
  {
   "cell_type": "code",
   "execution_count": null,
   "id": "0abbd369",
   "metadata": {},
   "outputs": [],
   "source": []
  }
 ],
 "metadata": {
  "kernelspec": {
   "display_name": "Python 3",
   "language": "python",
   "name": "python3"
  },
  "language_info": {
   "codemirror_mode": {
    "name": "ipython",
    "version": 3
   },
   "file_extension": ".py",
   "mimetype": "text/x-python",
   "name": "python",
   "nbconvert_exporter": "python",
   "pygments_lexer": "ipython3",
   "version": "3.9.0"
  }
 },
 "nbformat": 4,
 "nbformat_minor": 5
}
